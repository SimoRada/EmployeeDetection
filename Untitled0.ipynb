{
  "nbformat": 4,
  "nbformat_minor": 0,
  "metadata": {
    "colab": {
      "provenance": [],
      "authorship_tag": "ABX9TyM4yV4BJwTn57nlocYKXR29",
      "include_colab_link": true
    },
    "kernelspec": {
      "name": "python3",
      "display_name": "Python 3"
    },
    "language_info": {
      "name": "python"
    }
  },
  "cells": [
    {
      "cell_type": "markdown",
      "metadata": {
        "id": "view-in-github",
        "colab_type": "text"
      },
      "source": [
        "<a href=\"https://colab.research.google.com/github/SimoRada/EmployeeDetection/blob/main/Untitled0.ipynb\" target=\"_parent\"><img src=\"https://colab.research.google.com/assets/colab-badge.svg\" alt=\"Open In Colab\"/></a>"
      ]
    },
    {
      "cell_type": "markdown",
      "source": [
        "# **INTRODUCTION**"
      ],
      "metadata": {
        "id": "pEixDvwxVZ2Y"
      }
    },
    {
      "cell_type": "markdown",
      "source": [
        "I have developed this code to train a machine learning model, which was in COCO format, and then export it to a .tflite file to use in the final project."
      ],
      "metadata": {
        "id": "S40ldPa4UVEi"
      }
    },
    {
      "cell_type": "markdown",
      "source": [
        "# SETUP"
      ],
      "metadata": {
        "id": "BDZS_hgtVqkq"
      }
    },
    {
      "cell_type": "markdown",
      "source": [
        "This section explains the main steps to configure your development environment for retraining a model.\n",
        "These instructions describe how to update a model using Python."
      ],
      "metadata": {
        "id": "9mI5n3hRbrXF"
      }
    },
    {
      "cell_type": "markdown",
      "source": [
        "Use the following code to import the required Python classes:"
      ],
      "metadata": {
        "id": "3BxzF0YygwhF"
      }
    },
    {
      "cell_type": "code",
      "source": [
        "import os\n",
        "import json\n",
        "import tensorflow as tf\n",
        "assert tf.__version__.startswith('2')\n",
        "from mediapipe_model_maker import object_detector"
      ],
      "metadata": {
        "id": "IQORNHcdgsqj"
      },
      "execution_count": null,
      "outputs": []
    },
    {
      "cell_type": "markdown",
      "source": [
        "# Prepare data"
      ],
      "metadata": {
        "id": "289h3ix7kkA8"
      }
    },
    {
      "cell_type": "markdown",
      "source": [
        "Our directory contains two subdirectories, located in *employee/train* and *employee/validation*.\n",
        "Then I save that in the respective variables: *train_dataset_path* and *validation_dataset_path*."
      ],
      "metadata": {
        "id": "e2UJAoh7h4hA"
      }
    },
    {
      "cell_type": "code",
      "source": [
        "train_dataset_path = \"employee/train\"\n",
        "validation_dataset_path = \"employee/validation\""
      ],
      "metadata": {
        "id": "Jg8nd3Bdhvm5"
      },
      "execution_count": null,
      "outputs": []
    },
    {
      "cell_type": "markdown",
      "source": [
        "#Create dataset\n"
      ],
      "metadata": {
        "id": "e2woIG3snsWP"
      }
    },
    {
      "cell_type": "markdown",
      "source": [
        "Now we use the *from_coco_folder* method to load the dataset located at *train_dataset_path* and *validation_dataset_path*.\n",
        "During dataset loading, the data will be read from the specified path and converted into a uniform TFRecord format, which is stored in a cache for future use. It’s important to set up a cache_dir and consistently use it throughout your training to avoid creating redundant caches of the same dataset."
      ],
      "metadata": {
        "id": "ue5mObo8oA3N"
      }
    },
    {
      "cell_type": "code",
      "source": [
        "train_data = object_detector.Dataset.from_coco_folder(train_dataset_path, cache_dir=\"/tmp/od_data/train\")\n",
        "validation_data = object_detector.Dataset.from_coco_folder(validation_dataset_path, cache_dir=\"/tmp/od_data/validation\")"
      ],
      "metadata": {
        "id": "Y0B_JFh1vx63"
      },
      "execution_count": null,
      "outputs": []
    }
  ]
}