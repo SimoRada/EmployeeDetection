{
  "nbformat": 4,
  "nbformat_minor": 0,
  "metadata": {
    "colab": {
      "provenance": [],
      "authorship_tag": "ABX9TyPyZr9u1GQL5rg34Mr+1Hq1",
      "include_colab_link": true
    },
    "kernelspec": {
      "name": "python3",
      "display_name": "Python 3"
    },
    "language_info": {
      "name": "python"
    }
  },
  "cells": [
    {
      "cell_type": "markdown",
      "metadata": {
        "id": "view-in-github",
        "colab_type": "text"
      },
      "source": [
        "<a href=\"https://colab.research.google.com/github/SimoRada/EmployeeDetection/blob/main/ModelTraining.ipynb\" target=\"_parent\"><img src=\"https://colab.research.google.com/assets/colab-badge.svg\" alt=\"Open In Colab\"/></a>"
      ]
    },
    {
      "cell_type": "markdown",
      "source": [
        "# **INTRODUCTION**"
      ],
      "metadata": {
        "id": "pEixDvwxVZ2Y"
      }
    },
    {
      "cell_type": "markdown",
      "source": [
        "I have developed this code to train a machine learning model called Mobilnet-V2, using a dataset in COCO format, and then export it to a *.tflite* file to use in the final code."
      ],
      "metadata": {
        "id": "S40ldPa4UVEi"
      }
    },
    {
      "cell_type": "markdown",
      "source": [
        "# SETUP"
      ],
      "metadata": {
        "id": "BDZS_hgtVqkq"
      }
    },
    {
      "cell_type": "markdown",
      "source": [
        "This section presents the Python libraries that the code imports in order to use the model retraining APIs and extract in TensorFlow Lite format."
      ],
      "metadata": {
        "id": "9mI5n3hRbrXF"
      }
    },
    {
      "cell_type": "markdown",
      "source": [
        "Use the following code to import the required Python classes:"
      ],
      "metadata": {
        "id": "3BxzF0YygwhF"
      }
    },
    {
      "cell_type": "code",
      "source": [
        "import os\n",
        "import json\n",
        "import tensorflow as tf\n",
        "assert tf.__version__.startswith('2')\n",
        "from mediapipe_model_maker import object_detector"
      ],
      "metadata": {
        "id": "IQORNHcdgsqj"
      },
      "execution_count": null,
      "outputs": []
    },
    {
      "cell_type": "markdown",
      "source": [
        "# Prepare data"
      ],
      "metadata": {
        "id": "289h3ix7kkA8"
      }
    },
    {
      "cell_type": "markdown",
      "source": [
        "Our directory \"employee\" contains two subdirectories:\n",
        "both of them contains a set of photos inside the folder \"images\" and a JSON file that describes the coordinates associated with each image, wich the computer must interpret to determibe what to focus in the photo.\n",
        "\n",
        "*   *employee/train* is used to train the model\n",
        "*   *employee/validation* is used to test the model\n",
        "\n",
        "Then I save that in the respective variables: *train_dataset_path* and *validation_dataset_path*."
      ],
      "metadata": {
        "id": "e2UJAoh7h4hA"
      }
    },
    {
      "cell_type": "code",
      "source": [
        "train_dataset_path = \"employee/train\"\n",
        "validation_dataset_path = \"employee/validation\""
      ],
      "metadata": {
        "id": "Jg8nd3Bdhvm5"
      },
      "execution_count": null,
      "outputs": []
    },
    {
      "cell_type": "markdown",
      "source": [
        "#Create dataset\n"
      ],
      "metadata": {
        "id": "e2woIG3snsWP"
      }
    },
    {
      "cell_type": "markdown",
      "source": [
        "Now we use the *from_coco_folder* method to load the dataset located at *train_dataset_path* and *validation_dataset_path*.\n",
        "During dataset loading, the data will be read from the specified path and converted into a uniform TFRecord format, which is stored in a cache for future use. It’s important to set up a cache_dir and consistently use it throughout your training to avoid creating redundant caches of the same dataset."
      ],
      "metadata": {
        "id": "ue5mObo8oA3N"
      }
    },
    {
      "cell_type": "code",
      "source": [
        "train_data = object_detector.Dataset.from_coco_folder(train_dataset_path, cache_dir=\"/tmp/od_data/train\")\n",
        "validation_data = object_detector.Dataset.from_coco_folder(validation_dataset_path, cache_dir=\"/tmp/od_data/validation\")"
      ],
      "metadata": {
        "id": "Y0B_JFh1vx63"
      },
      "execution_count": null,
      "outputs": []
    },
    {
      "cell_type": "markdown",
      "source": [
        "# Set retraining options"
      ],
      "metadata": {
        "id": "Zt66B9T-hiyI"
      }
    },
    {
      "cell_type": "markdown",
      "source": [
        "In addition to the training dataset, there are a few essential settings needed to run retraining: the model's output directory and its architecture. To define the output directory, use the *HParams* class to set the *export_dir* parameter. To specify the model architecture, use the *SupportedModels* class. The object detection solution supports the following model architectures:\n",
        "\n",
        "\n",
        "*   MobileNet-V2\n",
        "*   MobileNet-MultiHW-AVG\n",
        "\n",
        "Also in this section we can modify the epochs (look \"epochs = 15\")\n",
        "One epoch is one complete pass of the training data set through the algorithm\n"
      ],
      "metadata": {
        "id": "1Mg-7FUihlnE"
      }
    },
    {
      "cell_type": "code",
      "source": [
        "spec = object_detector.SupportedModels.MOBILENET_MULTI_AVG\n",
        "hparams = object_detector.HParams(epochs = 15, export_dir='exported_model')\n",
        "options = object_detector.ObjectDetectorOptions(\n",
        "    supported_model=spec,\n",
        "    hparams=hparams\n",
        ")"
      ],
      "metadata": {
        "id": "CZq21L3-rzQ5"
      },
      "execution_count": null,
      "outputs": []
    },
    {
      "cell_type": "markdown",
      "source": [
        "# Run retraining"
      ],
      "metadata": {
        "id": "bJADrxwcr4KG"
      }
    },
    {
      "cell_type": "markdown",
      "source": [
        "Once your training dataset and retraining options are set up, you can begin the retraining process. This task is resource-demanding and may take anywhere from a few minutes to several hours, depending on your available compute resources.\n",
        "To initiate the retraining process, call the create() method with the dataset and options configured earlier:"
      ],
      "metadata": {
        "id": "iq6mgGiLswEM"
      }
    },
    {
      "cell_type": "code",
      "source": [
        "model = object_detector.ObjectDetector.create(\n",
        "    train_data=train_data,\n",
        "    validation_data=validation_data,\n",
        "    options=options)"
      ],
      "metadata": {
        "id": "y23f0P9juYYf"
      },
      "execution_count": null,
      "outputs": []
    }
  ]
}